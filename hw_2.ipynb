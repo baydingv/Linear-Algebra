{
 "cells": [
  {
   "cell_type": "markdown",
   "metadata": {},
   "source": [
    " Урок 2"
   ]
  },
  {
   "cell_type": "code",
   "execution_count": 51,
   "metadata": {},
   "outputs": [],
   "source": [
    "#1. Установить, какие произведения матриц AB и BA определены, и найти размерности полученных матри\n",
    "#а) A — матрица 4 × 2, B — матрица 4 × 2;\n",
    "#б) A — матрица 2 × 5, B — матрица 5 × 3;\n",
    "#в) A — матрица 8 × 3, B — матрица 3 × 8;\n",
    "#г) A — квадратная матрица 4 × 4, B — квадратная матрица 4 × 4"
   ]
  },
  {
   "cell_type": "code",
   "execution_count": 6,
   "metadata": {},
   "outputs": [],
   "source": [
    "import numpy as np\n",
    "#а) не определены АВ, ВА б) определено АВ р=2*3 в) определены АВ р= 8*8, ВА р= 3*3  г) определены АВ,ВА р = 4*4"
   ]
  },
  {
   "cell_type": "code",
   "execution_count": 7,
   "metadata": {},
   "outputs": [],
   "source": [
    "#                                            1 −2          4 −1\n",
    "#2. Найти сумму и произведение матриц A =    3  0   и B =  0  5"
   ]
  },
  {
   "cell_type": "code",
   "execution_count": 8,
   "metadata": {},
   "outputs": [],
   "source": [
    "#       5 -3           1*4+0*(-2)  1*(-1)+(-2)*5   4  -11\n",
    "# А+В = 3  5      A*B =3*4+0*0     3*(-1)+0*5    = 12  -3 "
   ]
  },
  {
   "cell_type": "code",
   "execution_count": 12,
   "metadata": {},
   "outputs": [
    {
     "name": "stdout",
     "output_type": "stream",
     "text": [
      "[[ 5 -3]\n",
      " [ 3  5]]\n",
      "[[  4 -11]\n",
      " [ 12  -3]]\n"
     ]
    }
   ],
   "source": [
    "A=np.array([[1,-2],[3,0]]); B=np.array([[4,-1],[0,5]])\n",
    "print(A+B)\n",
    "print(np.dot(A,B))"
   ]
  },
  {
   "cell_type": "markdown",
   "metadata": {},
   "source": [
    "3. Из закономерностей сложения и умножения матриц на число можно сделать вывод, что матрицы\n",
    "одного размера образуют линейное пространство. Вычислить линейную комбинацию 3A − 2B + 4C для\n",
    "           1  7     0  5      2 −4  \n",
    "матриц A = 3 −6, B =2 −1, C = 1  1"
   ]
  },
  {
   "cell_type": "code",
   "execution_count": 14,
   "metadata": {},
   "outputs": [
    {
     "name": "stdout",
     "output_type": "stream",
     "text": [
      "[[ 11  -5]\n",
      " [  9 -12]]\n"
     ]
    }
   ],
   "source": [
    "#                   3*1-2*0+4*2   3*7-2*5-4*4  11   -5\n",
    "#    3A − 2B + 4C = 3*3-2*2+4*1  -3*6+2*1+4*1 = 9  -12\n",
    "A=np.array([[1,7],[3,-6]]); B=np.array([[0,5],[2,-1]]); C=np.array([[2,-4],[1,1]]); \n",
    "print(3*A -2*B +4*C)"
   ]
  },
  {
   "cell_type": "code",
   "execution_count": null,
   "metadata": {},
   "outputs": [],
   "source": [
    "#                     4  1   T                      T     T \n",
    "#4. Дана матрица A =  5 -2  A = 4  5 2   Вычислить A A и A А\n",
    "#                     2  3      1 -2 3    "
   ]
  },
  {
   "cell_type": "code",
   "execution_count": 16,
   "metadata": {},
   "outputs": [
    {
     "name": "stdout",
     "output_type": "stream",
     "text": [
      "[[17 18 11]\n",
      " [18 29  4]\n",
      " [11  4 13]]\n",
      "[[45  0]\n",
      " [ 0 14]]\n"
     ]
    }
   ],
   "source": [
    "#   T   4*4+1*1 4*5-1*2 4*2+1*3   17  18 11\n",
    "# AA  = 5*4-2*1 5*5+2*2 5*2-2*3 = 18  29  4\n",
    "#       2*4+3*1 2*5-3*2 2*2+3*3   11   4 13\n",
    "\n",
    "# T   \n",
    "#A A  = 4*4 + 5*5 + 2*2  4*1 - 5*2 + 2*3 = 45  0  \n",
    "#       1*4 - 2*5 + 3*2  1*1 + 2*2 + 3*3    0 14\n",
    "A=np.array([[4,1],[5,-2],[2,3]])\n",
    "print(np.dot(A,A.T))\n",
    "print(np.dot(A.T,A))\n"
   ]
  },
  {
   "cell_type": "markdown",
   "metadata": {},
   "source": [
    "5*. Написать на Python функцию для перемножения двух произвольных матриц, не используя NumPy."
   ]
  },
  {
   "cell_type": "code",
   "execution_count": 50,
   "metadata": {},
   "outputs": [
    {
     "name": "stdout",
     "output_type": "stream",
     "text": [
      "[[4. 4. 4. 4. 4. 4. 4. 4. 4.]\n",
      " [0. 0. 0. 0. 0. 0. 0. 0. 0.]\n",
      " [4. 4. 4. 4. 4. 4. 4. 4. 4.]]\n"
     ]
    }
   ],
   "source": [
    "# без излишних проверок..\n",
    "def MtrxMul(A,B):\n",
    "    (mA,nA),(mB,nB) = A.shape,B.shape \n",
    "    R = np.zeros((mA,nB))\n",
    "    if nA==mB:\n",
    "        for i in range(mA):\n",
    "            for j in range(nB):\n",
    "                R[i,j] = sum(A[i,:]*B[:,j])\n",
    "    else:\n",
    "        R = 'matrixs have unproper size!!' \n",
    "    return R\n",
    "\n",
    "A=np.array([[1,1],[1,-1],[1,1]])\n",
    "B=np.array([[2,2,2,2,2,2,2,2,2],[2,2,2,2,2,2,2,2,2]])\n",
    "\n",
    "print(MtrxMul(A,B))"
   ]
  },
  {
   "cell_type": "code",
   "execution_count": 55,
   "metadata": {},
   "outputs": [
    {
     "name": "stdout",
     "output_type": "stream",
     "text": [
      "180.0\n",
      "6.66133814775094e-16\n"
     ]
    }
   ],
   "source": [
    "# Lesson 4\n",
    "# 1. Вычислить определитель:\n",
    "#a) sinx*sinx-(-cosx*cosx) = 1\n",
    "#б)| 4 2 3|\n",
    "#  | 0 5 1|  = 4*5*9 = 180 (треугольная!)\n",
    "#  | 0 0 9|\n",
    "\n",
    "#в)| 1 2 3|\n",
    "#  | 4 5 6|  = 1*(5*9-6*8) -2*(4*9-6*7) + 3*(4*8-5*7)= -3+12-9 = 0\n",
    "#  | 7 8 9|\n",
    "\n",
    "A=np.array([[4,2,3],[0,5,1],[0,0,9]]); print(np.linalg.det(A))\n",
    "A=np.array([[1,2,3],[4,5,6],[7,8,9]]); print(np.linalg.det(A))"
   ]
  },
  {
   "cell_type": "code",
   "execution_count": null,
   "metadata": {},
   "outputs": [],
   "source": [
    "#2. det(A)=4 => det(A^2)=det(A)*det(A)=16; det(A.T)=4; det(2A)=4*2^rank. т.е. для rank=1 - det(2A)=8, 2 - 16, 3 - 32 и т.д."
   ]
  },
  {
   "cell_type": "code",
   "execution_count": 56,
   "metadata": {},
   "outputs": [
    {
     "name": "stdout",
     "output_type": "stream",
     "text": [
      "0.0\n"
     ]
    }
   ],
   "source": [
    "#3 матрица вырожденная, поскольку первая и вторая ее строки линейно зависимы\n",
    "A=np.array([[-2,7,-3],[4,-14,6],[-3,7,13]]); print(np.linalg.det(A))"
   ]
  },
  {
   "cell_type": "code",
   "execution_count": 57,
   "metadata": {},
   "outputs": [
    {
     "name": "stdout",
     "output_type": "stream",
     "text": [
      "3\n"
     ]
    }
   ],
   "source": [
    "#4 a) сама матрица вырожденная, т.к.вторая строка равна разности третьей и первой,\n",
    "#     зато можно найти ненулевой минор второго порядка:\n",
    "#1 2\n",
    "#1 1 det=-1, rank = 2\n",
    "\n",
    "#b) 0 0 2 1  ранг 3, т.к. из первых трех строк только одна линейно зависимая\n",
    "#   0 0 2 2\n",
    "#   0 0 4 3\n",
    "#   2 3 5 6\n",
    "#\n",
    "A=np.array([[0,0,2,1],[0,0,2,2],[0,0,4,3],[2,3,5,6]]); print(np.linalg.matrix_rank(A))"
   ]
  },
  {
   "cell_type": "code",
   "execution_count": null,
   "metadata": {},
   "outputs": [],
   "source": []
  }
 ],
 "metadata": {
  "kernelspec": {
   "display_name": "Python 3",
   "language": "python",
   "name": "python3"
  },
  "language_info": {
   "codemirror_mode": {
    "name": "ipython",
    "version": 3
   },
   "file_extension": ".py",
   "mimetype": "text/x-python",
   "name": "python",
   "nbconvert_exporter": "python",
   "pygments_lexer": "ipython3",
   "version": "3.7.3"
  }
 },
 "nbformat": 4,
 "nbformat_minor": 2
}
