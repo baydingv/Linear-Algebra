{
 "cells": [
  {
   "cell_type": "markdown",
   "metadata": {},
   "source": [
    " Урок 3"
   ]
  },
  {
   "cell_type": "code",
   "execution_count": 2,
   "metadata": {},
   "outputs": [],
   "source": [
    "import numpy as np"
   ]
  },
  {
   "cell_type": "code",
   "execution_count": 10,
   "metadata": {},
   "outputs": [
    {
     "name": "stdout",
     "output_type": "stream",
     "text": [
      "[2. 3.] [[-0.89442719  0.83205029]\n",
      " [ 0.4472136  -0.5547002 ]]\n"
     ]
    }
   ],
   "source": [
    "#1. Найти собственные векторы и собственные значения для линейного оператора, заданного матрицей\n",
    "#A=(−1 -6\n",
    "#    2  6). \n",
    "# det(A-lI)=(-1-l)*(6-l) +6*2 = l^2 -5l +6=0  => l={2,3}\n",
    "# A*x = 2*x => -x1 -6*x2 = 2*x1 & 2*x1+6*x2 = 2*x2 => x1 = -2*x2 =>   x ={-2, 1}\n",
    "# A*x = 3*x => -x1 -6*x2 = 3*x1 & 2*x1+6*x2 = 3*x2 => 2*x1 = -3*x2 => x ={ 3,-2}\n",
    "#\n",
    "a = np.array([[-1,-6],[2,6]])\n",
    "v,w = np.linalg.eig(a)\n",
    "print(v,w) "
   ]
  },
  {
   "cell_type": "code",
   "execution_count": 4,
   "metadata": {},
   "outputs": [],
   "source": [
    "#2. Дан оператор поворота на 180 градусов, задаваемый матрицей\n",
    "#A=(−1 0\n",
    "#    0 −1).  \n",
    "#Показать, что любой вектор является для него собственным.\n",
    "#\n",
    "# A*x = {-x1,-x2} = -1*x справедливо для произвольного х \n",
    "#\n"
   ]
  },
  {
   "cell_type": "code",
   "execution_count": 9,
   "metadata": {},
   "outputs": [
    {
     "name": "stdout",
     "output_type": "stream",
     "text": [
      "[2.00000002 1.99999998] [[ 0.70710677 -0.70710679]\n",
      " [ 0.70710679 -0.70710677]]\n"
     ]
    }
   ],
   "source": [
    "#3. Пусть линейный оператор задан матрицей\n",
    "#A=(1  1 \n",
    "#  -1  3). \n",
    "#Установить, является ли вектор  x=(1,1)  собственным вектором этого линейного оператора.\n",
    "#\n",
    "# A*x = {1+1; -1+3} = 2*{1;1} т.о х -собственный вектор с с.з. = 2\n",
    "#\n",
    "a = np.array([[1,1],[-1,3]])\n",
    "v,w = np.linalg.eig(a)\n",
    "print(v,w) "
   ]
  },
  {
   "cell_type": "code",
   "execution_count": 6,
   "metadata": {},
   "outputs": [],
   "source": [
    "#4. Пусть линейный оператор задан матрицей\n",
    "#A=0 3 0\n",
    "#  3 0 0 \n",
    "#  0 0 3. \n",
    "#Установить, является ли вектор  x=(3,−3,−4)  собственным вектором этого линейного оператора.\n",
    "#\n",
    "# A*x = {-9;9;-12} = -3*{3;-3;4} - полученный вектор не коллинеарен х - т.о. х - не является с.в. А\n",
    "#"
   ]
  }
 ],
 "metadata": {
  "kernelspec": {
   "display_name": "Python 3",
   "language": "python",
   "name": "python3"
  },
  "language_info": {
   "codemirror_mode": {
    "name": "ipython",
    "version": 3
   },
   "file_extension": ".py",
   "mimetype": "text/x-python",
   "name": "python",
   "nbconvert_exporter": "python",
   "pygments_lexer": "ipython3",
   "version": "3.7.3"
  }
 },
 "nbformat": 4,
 "nbformat_minor": 2
}
