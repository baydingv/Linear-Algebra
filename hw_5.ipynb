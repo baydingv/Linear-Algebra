{
 "cells": [
  {
   "cell_type": "code",
   "execution_count": null,
   "metadata": {},
   "outputs": [],
   "source": [
    " Урок 5"
   ]
  },
  {
   "cell_type": "code",
   "execution_count": 1,
   "metadata": {},
   "outputs": [],
   "source": [
    "import numpy as np"
   ]
  },
  {
   "cell_type": "code",
   "execution_count": 21,
   "metadata": {},
   "outputs": [
    {
     "name": "stdout",
     "output_type": "stream",
     "text": [
      "[[ 0.17056501  0.15680918 -0.53077508 -0.79905375 -0.16158397]\n",
      " [ 0.39287016 -0.52933945  0.6134793  -0.43375771  0.03082495]\n",
      " [-0.14366152 -0.82449256 -0.52379105  0.14049848  0.07400343]\n",
      " [ 0.88843702  0.06074346 -0.24655277  0.37755832 -0.06042632]\n",
      " [ 0.08125046  0.10831843 -0.08231425 -0.10524851  0.98173958]]\n",
      "[8.82486885 6.14060608 2.53271528]\n",
      "[[ 0.07116451  0.71702467  0.69340553]\n",
      " [-0.36737824  0.66514082 -0.65009301]\n",
      " [-0.92734505 -0.20847855  0.31075368]]\n",
      "UDW= \n",
      " [[ 1.00000000e+00  2.00000000e+00 -1.72084569e-15]\n",
      " [-6.66133815e-16  6.66133815e-16  5.00000000e+00]\n",
      " [ 3.00000000e+00 -4.00000000e+00  2.00000000e+00]\n",
      " [ 1.00000000e+00  6.00000000e+00  5.00000000e+00]\n",
      " [ 5.55111512e-17  1.00000000e+00  0.00000000e+00]]\n"
     ]
    }
   ],
   "source": [
    "#1. Найти с помощью NumPy SVD для матрицы\n",
    "# 1  2 0\n",
    "# 0  0 5\n",
    "# 3 -4 2\n",
    "# 1  6 5\n",
    "# 0  1 0\n",
    "A = np.array([[1,2,0],[0,0,5],[3,-4,2],[1,6,5],[0,1,0]])\n",
    "U, s, W = np.linalg.svd(A)\n",
    "print(U)\n",
    "print(s)\n",
    "print(W)\n",
    "D=[[s[0],0,0],[0,s[1],0],[0,0,s[2]],[0,0,0],[0,0,0]]\n",
    "#print(np.dot(U,U.T))\n",
    "#print(np.dot(W.T,W))\n",
    "\n",
    "print('UDW= \\n',np.dot(np.dot(U,D),W))"
   ]
  },
  {
   "cell_type": "code",
   "execution_count": 28,
   "metadata": {},
   "outputs": [
    {
     "name": "stdout",
     "output_type": "stream",
     "text": [
      "EU:  8.824868854820448  <->  8.824868854820442\n",
      "FR:  11.045361017187265  <->  11.045361017187261\n"
     ]
    }
   ],
   "source": [
    "#2. Для матрицы из предыдущего задания найти:\n",
    "# а) евклидову норму;\n",
    "# б) норму Фробениуса.\n",
    "print('EU: ',max(s),' <-> ',np.linalg.norm(A,2))\n",
    "print('FR: ',np.sqrt(sum(s*s)),' <-> ',np.linalg.norm(A,'fro'))\n"
   ]
  },
  {
   "cell_type": "code",
   "execution_count": null,
   "metadata": {},
   "outputs": [],
   "source": []
  }
 ],
 "metadata": {
  "kernelspec": {
   "display_name": "Python 3",
   "language": "python",
   "name": "python3"
  },
  "language_info": {
   "codemirror_mode": {
    "name": "ipython",
    "version": 3
   },
   "file_extension": ".py",
   "mimetype": "text/x-python",
   "name": "python",
   "nbconvert_exporter": "python",
   "pygments_lexer": "ipython3",
   "version": "3.7.3"
  }
 },
 "nbformat": 4,
 "nbformat_minor": 2
}
